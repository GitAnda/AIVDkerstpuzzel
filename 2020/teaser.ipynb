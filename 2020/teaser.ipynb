{
 "cells": [
  {
   "cell_type": "code",
   "execution_count": 36,
   "metadata": {},
   "outputs": [
    {
     "data": {
      "text/plain": [
       "['b 17 Alabama',\n",
       " 'r 0 Alaska',\n",
       " 'r 2 Arizona',\n",
       " 'g 14 Arkansas',\n",
       " 'b 0 California',\n",
       " 'b 0 Colorado',\n",
       " 'g 0 Connecticut',\n",
       " 'b 0 Delaware',\n",
       " 'g 10 Florida',\n",
       " 'b 9 Georgia',\n",
       " 'r 0 Hawaii',\n",
       " 'r 7 Idaho',\n",
       " 'b 1 Illinois',\n",
       " 'g 0 Indiana',\n",
       " 'b 0 Iowa',\n",
       " 'b 0 Kansas',\n",
       " 'r 0 Kentucky',\n",
       " 'g 0 Louisiana',\n",
       " 'r 0 Maine',\n",
       " 'r 0 Maryland',\n",
       " 'b 0 Massachusetts',\n",
       " 'b 0 Michigan',\n",
       " 'g 3 Minnesota',\n",
       " 'r 0 Mississippi',\n",
       " 'r 0 Missouri',\n",
       " 'b 0 Montana',\n",
       " 'b 15 Nebraska',\n",
       " 'g 8 Nevada',\n",
       " 'b 0 New-Hampshire',\n",
       " 'g 0 New-Jersey',\n",
       " 'b 0 New-Mexico',\n",
       " 'r 0 New-York',\n",
       " 'b 0 North-Carolina',\n",
       " 'b 0 North-Dakota',\n",
       " 'g 11 Ohio',\n",
       " 'r 0 Oklahoma',\n",
       " 'g 5 Oregon',\n",
       " 'r 0 Pennsylvania',\n",
       " 'r 12 Rhode-Island',\n",
       " 'g 13 South-Carolina',\n",
       " 'b 0 South-Dakota',\n",
       " 'g 6 Tennessee',\n",
       " 'b 16 Texas',\n",
       " 'g 0 Utah',\n",
       " 'b 0 Vermont',\n",
       " 'b 4 Virginia',\n",
       " 'r 0 Washington',\n",
       " 'r 0 West-Virginia',\n",
       " 'b 0 Wisconsin',\n",
       " 'b 0 Wyoming']"
      ]
     },
     "execution_count": 36,
     "metadata": {},
     "output_type": "execute_result"
    }
   ],
   "source": [
    "f = open(\"teaser.txt\", \"r\")\n",
    "input_puzzle = f.read().split('\\n')\n",
    "input_puzzle"
   ]
  },
  {
   "cell_type": "code",
   "execution_count": 29,
   "metadata": {},
   "outputs": [
    {
     "name": "stdout",
     "output_type": "stream",
     "text": [
      "b Illinois\n",
      "r Arizona\n",
      "g Minnesota\n",
      "b Virginia\n",
      "g Oregon\n",
      "g Tennessee\n",
      "r Idaho\n",
      "g Nevada\n",
      "b Georgia\n",
      "g Florida\n",
      "g Ohio\n",
      "r Rhode-Island\n",
      "g South-Carolina\n",
      "g Arkansas\n",
      "b Nebraska\n",
      "b Texas\n",
      "b Alabama\n"
     ]
    }
   ],
   "source": [
    "path = [x for x in input_puzzle if int(x.split(\" \")[1]) != 0]\n",
    "path = [[int(x.split(\" \")[1]), x.split(\" \")[0], x.split(\" \")[2]] for x in path]\n",
    "path = sorted(path)\n",
    "\n",
    "for x in path:\n",
    "    print(x[1], x[2])"
   ]
  },
  {
   "cell_type": "code",
   "execution_count": 37,
   "metadata": {},
   "outputs": [
    {
     "data": {
      "text/plain": [
       "['Alabama',\n",
       " 'California',\n",
       " 'Colorado',\n",
       " 'Delaware',\n",
       " 'Georgia',\n",
       " 'Illinois',\n",
       " 'Iowa',\n",
       " 'Kansas',\n",
       " 'Massachusetts',\n",
       " 'Michigan',\n",
       " 'Montana',\n",
       " 'Nebraska',\n",
       " 'New-Hampshire',\n",
       " 'New-Mexico',\n",
       " 'North-Carolina',\n",
       " 'North-Dakota',\n",
       " 'South-Dakota',\n",
       " 'Texas',\n",
       " 'Vermont',\n",
       " 'Virginia',\n",
       " 'Wisconsin',\n",
       " 'Wyoming']"
      ]
     },
     "execution_count": 37,
     "metadata": {},
     "output_type": "execute_result"
    }
   ],
   "source": [
    "[x.split(\" \")[2] for x in input_puzzle if x.split(\" \")[0] == \"b\"]"
   ]
  }
 ],
 "metadata": {
  "kernelspec": {
   "display_name": "Python (myenv)",
   "language": "python",
   "name": "myenv"
  },
  "language_info": {
   "codemirror_mode": {
    "name": "ipython",
    "version": 3
   },
   "file_extension": ".py",
   "mimetype": "text/x-python",
   "name": "python",
   "nbconvert_exporter": "python",
   "pygments_lexer": "ipython3",
   "version": "3.8.5"
  }
 },
 "nbformat": 4,
 "nbformat_minor": 4
}
