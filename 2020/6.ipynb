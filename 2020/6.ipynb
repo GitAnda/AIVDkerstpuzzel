{
 "cells": [
  {
   "cell_type": "code",
   "execution_count": 57,
   "metadata": {},
   "outputs": [
    {
     "name": "stdout",
     "output_type": "stream",
     "text": [
      "red square count: 163\n",
      "blue square count: 255\n",
      "vowel count: 163\n",
      "vowel count: 255\n"
     ]
    }
   ],
   "source": [
    "encoded = '110 010 011 001010 011010 01 010010 0110 10010 0101010 010001010 0100 010 010 0100 11000110100 0110 01 0101 01010 011010 10001100 10 0010000 010 10010 10 010 0100 010011001 0010 11001010 10 10 10010 010 01 0110001 010 01 0110001 0010 010 010011000110 01100 01 0010010 10 10 010 01101010010 01 0001010 10010 010 0100 100 1100110 01 10010 100100100 10 010 010 10010 010 100 010 010011001 0101000 010 010010 01100001000 01 0110 010 01 000010010 010 010 010110 10 01 0011010 0110 01 0100 010 01 011000010 10 01010'\n",
    "\n",
    "print('red square count:', list(encoded).count('1'))\n",
    "print('blue square count:', list(encoded).count('0'))\n",
    "print('vowel count:', 44 + 56 + 27 + 32 + 4)\n",
    "print('vowel count:', 5+7+33+3+10+13+6+6+20+9+35+4+18+22+37+13+5+9)"
   ]
  },
  {
   "cell_type": "code",
   "execution_count": 49,
   "metadata": {},
   "outputs": [
    {
     "name": "stdout",
     "output_type": "stream",
     "text": [
      "['AANFLUITING', 'AANSLUITING', 'AANSPOELING', 'AANSTUIVING', 'AARDLEIDING', 'EENSLUIDEND', 'UITBREIDING', 'UITBROEDING', 'UITSLUITEND', 'UITSLUITING', 'UITSPOELING', 'EINDKEURING']\n",
      "['AFGHAANS', 'AFSTAAND', 'ALLROUND', 'ALTHOORN', 'ANTWOORD', 'ARMVOOGD', 'EFFLUENT', 'ETSNAALD', 'IJSTAART', 'INTRIEST', 'OKSHOOFD', 'OMSTAAND', 'ONTBEEND', 'ONTHEEMD', 'ONTHOOFD', 'ONTLEERD', 'ONTLUISD', 'ONTROERD', 'ONTVOOGD', 'ONTWAAKT', 'ONTZIELD', 'OPSTAAND', 'ALTTOETS', 'IJSBEELD', 'IJLHOOFD']\n",
      "['KNECHTS', 'SLECHTS']\n",
      "['BAARDDRACHT', 'BEULSKNECHT', 'BEURSKNECHT', 'GEESTKRACHT', 'TOORTSLICHT', 'ZIELSKRACHT', 'LOODSPLICHT', 'HAARSCHACHT', 'HOOFDDRACHT', 'HOOFDKLACHT']\n",
      "['SCHMINKEN', 'SCHNABBEL', 'SCHNITZEL', 'SCHRABBEN', 'SCHRABBER', 'SCHRAMMEN', 'SCHRANDER', 'SCHRANKEN', 'SCHRANSEN', 'SCHRANSER', 'SCHRANZEN', 'SCHRANZER', 'SCHRAPNEL', 'SCHRAPPEN', 'SCHRAPPER', 'SCHRAPSEL', 'SCHRIJDEN', 'SCHRIJNEN', 'SCHRIJVEN', 'SCHRIJVER', 'SCHRIKKEN', 'SCHROBBEN', 'SCHROBBER', 'SCHROBNET', 'SCHROBPUT', 'SCHROKKEN', 'SCHROKKER', 'SCHROKKIG', 'SCHRIKHEK']\n"
     ]
    }
   ],
   "source": [
    "f = open('opentaal-wordlist-master/basiswoorden-gekeurd.txt')\n",
    "woorden = f.read().split('\\n')\n",
    "\n",
    "f = open('6_candidates.txt')\n",
    "candidaat_woorden = f.read()\n",
    "candidaat_woorden = candidaat_woorden.split(\"], [\")\n",
    "candidaat_woorden = [x.replace('[', '').replace(']', '').replace(' ', '').replace('\"', '').split(',') for x in candidaat_woorden]\n",
    "\n",
    "freq = {\"A\": 44, \"B\": 5, \"C\": 7, \"D\": 33, \"E\": 56, \"F\": 3, \"G\": 10, \"H\": 13, \"I\": 27, \"J\": 6, \"K\": 6, \"L\": 20, \"M\": 9, \"N\": 35, \"O\": 32, \"P\": 4, \"R\": 18, \"S\": 22, \"T\": 37, \"U\": 4, \"V\": 13, \"W\": 5, \"Z\": 9}\n",
    "\n",
    "vast = [[15, 9, \"N\"], [23, 2, \"E\"], [23, 3, \"C\"], [23, 4, \"H\"], [23, 5, \"T\"], [23, 6, \"S\"], [72, 8, \"C\"], [72, 9, \"H\"], [72, 10, \"T\"], [77, 0, \"S\"], [77, 1, \"C\"], [77, 2, \"H\"]]"
   ]
  },
  {
   "cell_type": "code",
   "execution_count": 54,
   "metadata": {},
   "outputs": [
    {
     "name": "stdout",
     "output_type": "stream",
     "text": [
      "\"KNECHTS\" \"BAARDDRACHT\" citaat\n",
      "\"KNECHTS\" \"BEULSKNECHT\" citaat\n",
      "\"KNECHTS\" \"BEURSKNECHT\" citaat\n",
      "\"KNECHTS\" \"GEESTKRACHT\" citaat\n",
      "\"KNECHTS\" \"TOORTSLICHT\" citaat\n",
      "\"KNECHTS\" \"ZIELSKRACHT\" citaat\n",
      "\"KNECHTS\" \"LOODSPLICHT\" citaat\n",
      "\"KNECHTS\" \"HAARSCHACHT\" citaat\n",
      "\"KNECHTS\" \"HOOFDDRACHT\" citaat\n",
      "\"KNECHTS\" \"HOOFDKLACHT\" citaat\n",
      "\"SLECHTS\" \"BAARDDRACHT\" citaat\n",
      "\"SLECHTS\" \"BEULSKNECHT\" citaat\n",
      "\"SLECHTS\" \"BEURSKNECHT\" citaat\n",
      "\"SLECHTS\" \"GEESTKRACHT\" citaat\n",
      "\"SLECHTS\" \"TOORTSLICHT\" citaat\n",
      "\"SLECHTS\" \"ZIELSKRACHT\" citaat\n",
      "\"SLECHTS\" \"LOODSPLICHT\" citaat\n",
      "\"SLECHTS\" \"HAARSCHACHT\" citaat\n",
      "\"SLECHTS\" \"HOOFDDRACHT\" citaat\n",
      "\"SLECHTS\" \"HOOFDKLACHT\" citaat\n"
     ]
    }
   ],
   "source": [
    "# for x in candidaat_woorden[15]:\n",
    "for y in candidaat_woorden[23]:\n",
    "    for z in candidaat_woorden[72]:\n",
    "        print('\"'+y+'\"', '\"'+z+'\"', \"citaat\")"
   ]
  },
  {
   "cell_type": "code",
   "execution_count": 41,
   "metadata": {},
   "outputs": [
    {
     "name": "stdout",
     "output_type": "stream",
     "text": [
      "0 36 110\n",
      "1 483 010\n",
      "2 66 011\n",
      "3 396 001010\n",
      "4 569 011010\n",
      "5 38 01\n",
      "6 2075 010010\n",
      "7 609 0110\n",
      "8 157 10010\n",
      "9 630 0101010\n",
      "10 561 010001010\n",
      "11 524 0100\n",
      "12 483 010\n",
      "13 483 010\n",
      "14 524 0100\n",
      "15 12 110001101N0\n",
      "16 609 0110\n",
      "17 38 01\n",
      "18 291 0101\n",
      "19 928 01010\n",
      "20 569 011010\n",
      "21 25 10001100\n",
      "22 34 10\n",
      "23 2 00ECHTS\n",
      "24 483 010\n",
      "25 157 10010\n",
      "26 34 10\n",
      "27 483 010\n",
      "28 524 0100\n",
      "29 85 010011001\n",
      "30 324 0010\n",
      "31 140 11001010\n",
      "32 34 10\n",
      "33 34 10\n",
      "34 157 10010\n",
      "35 483 010\n",
      "36 38 01\n",
      "37 75 0110001\n",
      "38 483 010\n",
      "39 38 01\n",
      "40 75 0110001\n",
      "41 324 0010\n",
      "42 483 010\n",
      "43 118 010011000110\n",
      "44 157 01100\n",
      "45 38 01\n",
      "46 1069 0010010\n",
      "47 34 10\n",
      "48 34 10\n",
      "49 483 010\n",
      "50 38 01101010010\n",
      "51 38 01\n",
      "52 65 0001010\n",
      "53 157 10010\n",
      "54 483 010\n",
      "55 524 0100\n",
      "56 56 100\n",
      "57 75 1100110\n",
      "58 38 01\n",
      "59 157 10010\n",
      "60 306 100100100\n",
      "61 34 10\n",
      "62 483 010\n",
      "63 483 010\n",
      "64 157 10010\n",
      "65 483 010\n",
      "66 56 100\n",
      "67 483 010\n",
      "68 85 010011001\n",
      "69 93 0101000\n",
      "70 483 010\n",
      "71 2075 010010\n",
      "72 10 01100001CHT\n",
      "73 38 01\n",
      "74 609 0110\n",
      "75 483 010\n",
      "76 38 01\n",
      "77 29 SCH010010\n",
      "78 483 010\n",
      "79 483 010\n",
      "80 442 010110\n",
      "81 34 10\n",
      "82 38 01\n",
      "83 318 0011010\n",
      "84 609 0110\n",
      "85 38 01\n",
      "86 524 0100\n",
      "87 483 010\n",
      "88 38 01\n",
      "89 116 011000010\n",
      "90 34 10\n",
      "91 928 01010\n"
     ]
    }
   ],
   "source": [
    "zin = encoded.split(' ')\n",
    "for x in vast:\n",
    "    zin[x[0]] = zin[x[0]][0:x[1]] + x[2] + zin[x[0]][x[1]+1:]\n",
    "    \n",
    "misschien = [[23, 0, \"S\"], [23, 1, \"L\"], [0, 0, \"E\"], [0, 1, \"E\"], [23, 5, \"T\"], [23, 6, \"S\"], [72, 8, \"C\"], [72, 9, \"H\"], [72, 10, \"T\"], [77, 0, \"S\"], [77, 1, \"C\"], [77, 2, \"H\"]]\n",
    "    \n",
    "for i, woord in enumerate(zin):\n",
    "    print(i, len(candidaat_woorden[i]), woord)"
   ]
  },
  {
   "cell_type": "code",
   "execution_count": 4,
   "metadata": {},
   "outputs": [
    {
     "data": {
      "text/plain": [
       "'asdfdsfkjljegg___'"
      ]
     },
     "execution_count": 4,
     "metadata": {},
     "output_type": "execute_result"
    }
   ],
   "source": [
    "a = 'asdfdsfkjlje_____'\n",
    "\n",
    "a.replace('_', 'g',2)"
   ]
  }
 ],
 "metadata": {
  "kernelspec": {
   "display_name": "Python (myenv)",
   "language": "python",
   "name": "myenv"
  },
  "language_info": {
   "codemirror_mode": {
    "name": "ipython",
    "version": 3
   },
   "file_extension": ".py",
   "mimetype": "text/x-python",
   "name": "python",
   "nbconvert_exporter": "python",
   "pygments_lexer": "ipython3",
   "version": "3.8.5"
  }
 },
 "nbformat": 4,
 "nbformat_minor": 4
}
