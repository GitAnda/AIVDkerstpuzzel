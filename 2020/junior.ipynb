{
 "cells": [
  {
   "cell_type": "code",
   "execution_count": 32,
   "metadata": {},
   "outputs": [],
   "source": [
    "import pandas as pd\n",
    "import numpy as np\n",
    "\n",
    "zin = 'QTPHTRQPIGIURMHDDMNSTPQRPONMTBURH VDQNIRKQIICHTRQDFPTCQNSTPCDHEFTBURH CRHRFCRDONQRMHDDGRHTRVRMJFRTH WTFHRMARHPFTRURMZTBH'\n",
    "zin  = [x for x in zin]\n",
    "a = ['a', 'a', 'a', 'a', 'b', 'b', 'c', 'c', 'c', 'd', 'e', 'e', 'e', 'e', 'e']\n",
    "labels, counts = np.unique(zin,return_counts=True)"
   ]
  },
  {
   "cell_type": "code",
   "execution_count": 33,
   "metadata": {},
   "outputs": [
    {
     "data": {
      "image/png": "[encoded data removed]",
      "text/plain": [
       "<Figure size 432x288 with 1 Axes>"
      ]
     },
     "metadata": {
      "needs_background": "light"
     },
     "output_type": "display_data"
    }
   ],
   "source": [
    "import matplotlib.pyplot as plt \n",
    "ticks = range(len(counts))\n",
    "plt.bar(ticks,counts, align='center')\n",
    "h = plt.xticks(ticks, labels)"
   ]
  },
  {
   "cell_type": "code",
   "execution_count": 92,
   "metadata": {},
   "outputs": [
    {
     "data": {
      "text/plain": [
       "'TISNIETSOMOVERNAARHUISTESCHRIJVEN|DATHOEFTOOKNIETALSIKTHUISKANBLIJVEN|KENELKEACHTERNAAMENIEDERPLEIN|WILNERGENSLIEVERZIJN'"
      ]
     },
     "execution_count": 92,
     "metadata": {},
     "output_type": "execute_result"
    }
   ],
   "source": [
    "alf_map = {' ': '|', 'A': 'G', 'B': 'J', 'C': 'K', 'D': 'A', 'E': 'B','F': 'L', 'G': 'M', 'H': 'N', 'I': 'O', 'J': 'P', 'K': 'F', 'L': 'Q', 'M': 'R', 'N': 'H', 'O': 'C', 'P': 'S', 'Q': 'T', 'R': 'E', 'S': 'U', 'T': 'I', 'U': 'V', 'V': 'D', 'W': 'W', 'X': 'X', 'Y': 'Y', 'Z': 'Z'}\n",
    "\n",
    "''.join([alf_map[x] for x in zin])"
   ]
  },
  {
   "cell_type": "code",
   "execution_count": 93,
   "metadata": {},
   "outputs": [
    {
     "data": {
      "text/plain": [
       "'DEOVRKANTBCFGHIJLMPQSUWXYZ'"
      ]
     },
     "execution_count": 93,
     "metadata": {},
     "output_type": "execute_result"
    }
   ],
   "source": [
    "alf = 'ABCDEFGHIJKLMNOPQRSTUVWXYZ'\n",
    "inv_map = {v: k for k, v in alf_map.items()}\n",
    "''.join([inv_map[x] for x in alf])"
   ]
  }
 ],
 "metadata": {
  "kernelspec": {
   "display_name": "Python (myenv)",
   "language": "python",
   "name": "myenv"
  },
  "language_info": {
   "codemirror_mode": {
    "name": "ipython",
    "version": 3
   },
   "file_extension": ".py",
   "mimetype": "text/x-python",
   "name": "python",
   "nbconvert_exporter": "python",
   "pygments_lexer": "ipython3",
   "version": "3.8.5"
  }
 },
 "nbformat": 4,
 "nbformat_minor": 4
}
