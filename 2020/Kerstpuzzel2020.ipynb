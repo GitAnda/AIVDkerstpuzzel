{
 "cells": [
  {
   "cell_type": "code",
   "execution_count": null,
   "metadata": {},
   "outputs": [],
   "source": [
    "AZERBEIDZJAN\n",
    "A E B  D JAN\n",
    "\n",
    "RRSUZDEIIL\n",
    "\n",
    "ZUID RELRIS"
   ]
  },
  {
   "cell_type": "code",
   "execution_count": 7,
   "metadata": {},
   "outputs": [
    {
     "data": {
      "text/plain": [
       "22.0"
      ]
     },
     "execution_count": 7,
     "metadata": {},
     "output_type": "execute_result"
    }
   ],
   "source": [
    "# Opgave 4\n",
    "\n",
    "string = 'FLESOPENENERCILLESSENPUBERTEITRUTTEOPSCHEPPENZINPONYVERSTAPPENRUITENWILHELMUSHAGELSLAGSTROPDASSTOMERIJUITSMIJTERONDERHEMDROTONDETURQUOISELAARZENAMSTERDAMVELDRIJDENELLENDEKNIPPERLICHTGLIJBAANAMALIARENNENHANDENPATATANITA’S ?'\n",
    "(len(string)-2)/10"
   ]
  },
  {
   "cell_type": "code",
   "execution_count": 2,
   "metadata": {},
   "outputs": [
    {
     "name": "stdout",
     "output_type": "stream",
     "text": [
      "               . . . . . . \n",
      "              . . . . . . . \n",
      "             . . . . . . . . \n",
      "            . . . . e . . . . \n",
      "           . . . . . i . . . . \n",
      "          . . . . . ? . . . . . \n",
      "           . . . . . . . . . . \n",
      "            . . . . . . . . . \n",
      "             . . . . . . . . \n",
      "              . . . . . . . \n",
      "               . . . . . . \n"
     ]
    }
   ],
   "source": [
    "# Opgave 8\n",
    "\n",
    "string = 'ajcbgrbhhbixblhbmqbtfcdwcrjcrxcxrdridwddzeecjegmei?elgepqeuiezrfhmfirfryfxfgbrgezgh?gltgulgzehcihcrheihfnhrdhrqhrzhshhtbhxvicbichidyiexihgihhihiiihindiqgirhirrivcixjjcdjcxjfujrejrjjrmjxrkfikxfllkloelohlzemhjmirmqmmrcnhenienx?onkpbypmdpmgqdxqj?qjiqrcqydrcirdfreirfdrh?rhdrhrrrjrs?rxhrzxsghshmsresrrszltleuerugquibvdrvehvjjvxrwqpwyrxdnxdrxehxexxiixnfxqrxrqxsaxuiyilzxk'\n",
    "len(string)/3\n",
    "input_puzzle = [string[3*i:3*i+3] for i in range(len(string)//3)]\n",
    "# input_puzzle\n",
    "\n",
    "empty_hive = ['.'*6,'.'*7,'.'*8,'.'*4+'e'+'.'*4,'.'*5+'i'+'.'*4,'.'*5+'?'+'.'*5,'.'*10,'.'*9,'.'*8,'.'*7,'.'*6]\n",
    "\n",
    "def print_hive(hive):\n",
    "    for line in hive:\n",
    "        print(' '*(21-len(line)), end='')\n",
    "        print(''.join([x + ' ' for x in line]))\n",
    "\n",
    "def get_indices(item):\n",
    "    i = item[0]\n",
    "    j = item[1]\n",
    "    \n",
    "    if item[2] == '-':\n",
    "        if i < 4:\n",
    "            return [[i,j], [i+1,j+1], [i+2,j+1]]\n",
    "        elif i == 4:\n",
    "            return [[i,j], [i+1,j+1], [i+2,j]]\n",
    "        else:\n",
    "            return [[i,j], [i+1,j], [i+2,j-1]]\n",
    "        \n",
    "    if item[2] == '+':\n",
    "        if i > 6:\n",
    "            return [[i,j], [i-1,j], [i-2,j+1]]\n",
    "        elif i == 6:\n",
    "            return [[i,j], [i-1,j], [i-2,j]]\n",
    "        else:\n",
    "            return [[i,j], [i-1,j-1], [i-2,j-1]]\n",
    "\n",
    "print_hive(empty_hive)\n"
   ]
  },
  {
   "cell_type": "code",
   "execution_count": 5,
   "metadata": {},
   "outputs": [
    {
     "name": "stdout",
     "output_type": "stream",
     "text": [
      "               . . . . . . \n",
      "              . . . . . . . \n",
      "             . . . * * . . . \n",
      "            . . . * e * . . . \n",
      "           . . . . * i * . . . \n",
      "          . . . . . ? * . . . . \n",
      "           . . . . . . . . . . \n",
      "            . . . . . . . . . \n",
      "             . . . . . . . . \n",
      "              . . . . . . . \n",
      "               . . . . . . \n"
     ]
    }
   ],
   "source": [
    "items = [[5,6,'+'], [3,5,'-'], [2,3,'-'], [4,4,'+'], [2,4,'-'], [1,3,'-'], [0,2,'-'], [2,3,'+'], [1,2,'-'], [2,4,'+'], [0,3,'-'], [1,4,'-']]\n",
    "items = [[5,6,'+'], [3,5,'-'], [2,3,'-'], [4,4,'+'], [2,4,'-']]\n",
    "\n",
    "hive = ['.'*6,'.'*7,'.'*8,'.'*4+'e'+'.'*4,'.'*5+'i'+'.'*4,'.'*5+'?'+'.'*5,'.'*10,'.'*9,'.'*8,'.'*7,'.'*6]\n",
    "\n",
    "# def add_element_to_hive(element, idx, hive)\n",
    "for item in items:\n",
    "    indices = get_indices(item)\n",
    "    for idx in indices:\n",
    "        char = hive[idx[0]][idx[1]]\n",
    "        if char == '.' or char == '?':\n",
    "            hive[idx[0]] = hive[idx[0]][0:idx[1]] + '*' + hive[idx[0]][idx[1]+1:]\n",
    "#         else:\n",
    "#             if char\n",
    "   \n",
    "print_hive(hive) "
   ]
  },
  {
   "cell_type": "code",
   "execution_count": 6,
   "metadata": {},
   "outputs": [
    {
     "ename": "NameError",
     "evalue": "name 'items' is not defined",
     "output_type": "error",
     "traceback": [
      "\u001b[1;31m---------------------------------------------------------------------------\u001b[0m",
      "\u001b[1;31mNameError\u001b[0m                                 Traceback (most recent call last)",
      "\u001b[1;32m<ipython-input-6-f53e8b41e174>\u001b[0m in \u001b[0;36m<module>\u001b[1;34m\u001b[0m\n\u001b[1;32m----> 1\u001b[1;33m \u001b[0mx\u001b[0m \u001b[1;33m=\u001b[0m \u001b[1;33m[\u001b[0m\u001b[0mi\u001b[0m \u001b[1;32mfor\u001b[0m \u001b[0mi\u001b[0m \u001b[1;32min\u001b[0m \u001b[0mrange\u001b[0m\u001b[1;33m(\u001b[0m\u001b[0mlen\u001b[0m\u001b[1;33m(\u001b[0m\u001b[0mitems\u001b[0m\u001b[1;33m)\u001b[0m\u001b[1;33m)\u001b[0m\u001b[1;33m]\u001b[0m\u001b[1;33m\u001b[0m\u001b[1;33m\u001b[0m\u001b[0m\n\u001b[0m\u001b[0;32m      2\u001b[0m \u001b[1;32mimport\u001b[0m \u001b[0mitertools\u001b[0m\u001b[1;33m\u001b[0m\u001b[1;33m\u001b[0m\u001b[0m\n\u001b[0;32m      3\u001b[0m \u001b[1;33m\u001b[0m\u001b[0m\n\u001b[0;32m      4\u001b[0m \u001b[1;31m# list(itertools.combinations(input_puzzle,4))\u001b[0m\u001b[1;33m\u001b[0m\u001b[1;33m\u001b[0m\u001b[1;33m\u001b[0m\u001b[0m\n",
      "\u001b[1;31mNameError\u001b[0m: name 'items' is not defined"
     ]
    }
   ],
   "source": [
    "x = [i for i in range(len(items))]\n",
    "import itertools\n",
    "\n",
    "# list(itertools.combinations(input_puzzle,4))"
   ]
  },
  {
   "cell_type": "code",
   "execution_count": 11,
   "metadata": {},
   "outputs": [
    {
     "name": "stdout",
     "output_type": "stream",
     "text": [
      "red square count: 163\n",
      "vowel count: 163\n"
     ]
    }
   ],
   "source": [
    "pattern = '110 010 011 001010 011010 01 010010 0110 10010 0101010 010001010 0100 010 010 0100 11000110100 0110 01 0101 01010 011010 10001100 10 0010000 010 10010 10 010 0100 010011001 0010 11001010 10 10 10010 010 01 0110001 010 01 0110001 0010 010 010011000110 01100 01 0010010 10 10 010 01101010010 01 0001010 10010 010 0100 100 1100110 01 10010 100100100 10 010 010 10010 010 100 010 010011001 0101000 010 010010 01100001000 01 0110 010 01 000010010 010 010 010110 10 01 0011010 0110 01 0100 010 01 011000010 10 01010'\n",
    "\n",
    "pattern = list(pattern)\n",
    "print('red square count:', pattern.count('1'))\n",
    "print('vowel count:', 44 + 56 + 27 + 32 + 4)"
   ]
  }
 ],
 "metadata": {
  "kernelspec": {
   "display_name": "Python (myenv)",
   "language": "python",
   "name": "myenv"
  },
  "language_info": {
   "codemirror_mode": {
    "name": "ipython",
    "version": 3
   },
   "file_extension": ".py",
   "mimetype": "text/x-python",
   "name": "python",
   "nbconvert_exporter": "python",
   "pygments_lexer": "ipython3",
   "version": "3.8.5"
  }
 },
 "nbformat": 4,
 "nbformat_minor": 4
}
